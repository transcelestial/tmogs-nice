{
  "nbformat": 4,
  "nbformat_minor": 0,
  "metadata": {
    "colab": {
      "provenance": [],
      "authorship_tag": "ABX9TyMR7nH0m+Cf4hqwY/uW+ofY",
      "include_colab_link": true
    },
    "kernelspec": {
      "name": "python3",
      "display_name": "Python 3"
    },
    "language_info": {
      "name": "python"
    }
  },
  "cells": [
    {
      "cell_type": "markdown",
      "metadata": {
        "id": "view-in-github",
        "colab_type": "text"
      },
      "source": [
        "<a href=\"https://colab.research.google.com/github/SpaceExp263/tmogs-noice/blob/dev/Pyserial_Telescope_Communication.ipynb\" target=\"_parent\"><img src=\"https://colab.research.google.com/assets/colab-badge.svg\" alt=\"Open In Colab\"/></a>"
      ]
    },
    {
      "cell_type": "code",
      "execution_count": null,
      "metadata": {
        "id": "z_Zk0JLzjSXt"
      },
      "outputs": [],
      "source": [
        "#The Nexstar Communication Protocol for Serial Communication \n",
        "#https://s3.amazonaws.com/celestron-site-support-files/support_files/1154108406_nexstarcommprot.pdf\n",
        "\n",
        "import serial \n",
        "import time\n",
        "import codecs \n",
        "\n",
        "device = serial.Serial('/dev/ttyUSB0',9600)\n",
        "if(device.isOpen()==True): \n",
        "\tprint(\"The port is open\")\n",
        "device.flushInput()\n",
        "cmd=bytes(input(\"Enter the command for the telescope :\\t\"),'utf-8')\n",
        "device.write(cmd)\n",
        "value=device.read()\n",
        "print(\"the value in bytes:\\t\",value)\n",
        "print(codecs.decode(value))\n",
        "\n",
        "\n",
        "\n"
      ]
    }
  ]
}